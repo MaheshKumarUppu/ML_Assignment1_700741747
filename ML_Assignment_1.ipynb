{
 "cells": [
  {
   "cell_type": "markdown",
   "id": "86c1c761",
   "metadata": {},
   "source": [
    "Q1"
   ]
  },
  {
   "cell_type": "code",
   "execution_count": 4,
   "id": "0d81107a",
   "metadata": {},
   "outputs": [
    {
     "name": "stdout",
     "output_type": "stream",
     "text": [
      "The List after Sorting [19, 19, 20, 22, 24, 24, 24, 25, 25, 26] \n",
      "Minmum age of the list 19 \n",
      "Maximim Age of Lits 26 \n",
      "List after adding min and max age [19, 22, 19, 24, 20, 25, 26, 24, 25, 24, 19, 26] \n",
      "Median age of the new list 24.0 \n",
      "Average age of the new list 22.75 \n",
      "Range of ages in the list 7\n"
     ]
    }
   ],
   "source": [
    "import statistics  # Importing statistics Library to use median and mean\n",
    "ages = [19, 22, 19, 24, 20, 25, 26, 24, 25, 24]\n",
    "sortedAges=sorted(ages)                     #sorting and storing in new list\n",
    "leastAge=min(ages)                          #finding min age\n",
    "highestAge=max(ages)                        #finding max age\n",
    "newAges = ages + [leastAge,highestAge]      #adding min and max age again back to the list\n",
    "medianAge = statistics.median(newAges)      #finding median age\n",
    "aveargeAge= statistics.mean(newAges)        #finding average age\n",
    "ageRange=highestAge-leastAge                #finding age ranges of the list\n",
    "\n",
    "\n",
    "\n",
    "print(\"The List after Sorting\",sortedAges,\"\\nMinmum age of the list\",leastAge,\"\\nMaximim Age of Lits\",highestAge,\n",
    "      \"\\nList after adding min and max age\",newAges,\"\\nMedian age of the new list\",medianAge,\n",
    "      \"\\nAverage age of the new list\",aveargeAge, \"\\nRange of ages in the list\",ageRange\n",
    "     )"
   ]
  },
  {
   "cell_type": "markdown",
   "id": "09da5c77",
   "metadata": {},
   "source": [
    "Q2"
   ]
  },
  {
   "cell_type": "code",
   "execution_count": 5,
   "id": "06578aeb",
   "metadata": {},
   "outputs": [
    {
     "name": "stdout",
     "output_type": "stream",
     "text": [
      "Length of Student Dictionary 8\n",
      "Skills of the student ['python', 'java', 'salesforce']\n",
      "type of student skills <class 'list'>\n",
      "student keys:  ['first_name', 'last_name', 'gender', 'age', 'skills', 'country', 'city', 'address']\n",
      "student values : ['Mahesh', 'Uppu', 'male', 24, ['c', 'python', 'salesforce', 'java'], 'USA', 'Kansas', 'OverlandPark']\n"
     ]
    }
   ],
   "source": [
    "dog ={}  #empty dictionary named dog\n",
    " \n",
    "#adding data in the form of key value pairs to the dictionary\n",
    "dog[\"name\"] = \"Bull\"\n",
    "dog[\"color\"] = \"Black\"\n",
    "dog[\"breed\"] = \"BullDog\"\n",
    "dog[\"legs\"] = 4\n",
    "dog[\"age\"] = 10\n",
    "    \n",
    "#creating student dictionary with all the data at once \n",
    "student = {\n",
    "  \"first_name\": \"Mahesh\",\n",
    "  \"last_name\": \"Uppu\",\n",
    "  \"gender\": \"male\",\n",
    "  \"age\": 24,\n",
    "  \"skills\": ['python','java','salesforce'],\n",
    "  \"country\": \"USA\",\n",
    "  \"city\": \"Kansas\",\n",
    "  \"address\": \"OverlandPark\"\n",
    " }\n",
    "\n",
    "studentDictionaryLength=len(student) #finding length of student dictionary\n",
    "studentSkills=student.get('skills')  #getting skills value of the dictionary\n",
    "student[\"skills\"]=['c','python','salesforce','java'] #modifying skills value of the dictionary\n",
    "studentkeys = list(student.keys()) #getting keys of the dictionary\n",
    "studentValues=list(student.values()) #getting values of the dictionary\n",
    "print(\"Length of Student Dictionary\",studentDictionaryLength) \n",
    "print(\"Skills of the student\",studentSkills) \n",
    "print(\"type of student skills\",type(studentSkills)) \n",
    "print(\"student keys: \",studentkeys)\n",
    "print(\"student values :\",studentValues) \n"
   ]
  },
  {
   "cell_type": "markdown",
   "id": "6f86584d",
   "metadata": {},
   "source": [
    "Q3"
   ]
  },
  {
   "cell_type": "code",
   "execution_count": 6,
   "id": "2c321d0c",
   "metadata": {},
   "outputs": [
    {
     "name": "stdout",
     "output_type": "stream",
     "text": [
      "brothers tuple ('pavan', 'suman', 'raman')\n",
      "sisters tuple ('laksmi', 'simran', 'deepika')\n",
      "siblings before adding father and mother ('pavan', 'suman', 'raman', 'laksmi', 'simran', 'deepika')\n",
      "Count of Siblings : 6\n",
      "Siblings after modification  ('pavan', 'suman', 'raman', 'laksmi', 'simran', 'deepika', 'Ramana', 'Kumari')\n",
      "Family members tuple ('pavan', 'suman', 'raman', 'laksmi', 'simran', 'deepika', 'Ramana', 'Kumari')\n"
     ]
    }
   ],
   "source": [
    "brothers = (\"pavan\", \"suman\", \"raman\") #brothers tuple creation\n",
    "sisters = (\"laksmi\", \"simran\", \"deepika\") #sisters tuple creation\n",
    "siblings = brothers+sisters  #creating sibiling by combining both brothers and sisters\n",
    "print(\"brothers tuple\",brothers) \n",
    "print(\"sisters tuple\",sisters)   \n",
    "print(\"siblings before adding father and mother\",siblings)\n",
    "siblingcount=len(siblings) #finding siblings count before adding father and mother\n",
    "tempconversion = list(siblings)\n",
    "tempconversion.append(\"Ramana\") #adding bother father and mothers names individually after coverting to list\n",
    "tempconversion.append(\"Kumari\")\n",
    "siblings=tuple(tempconversion)  # converting back to tuple\n",
    "family_members=tuple(siblings)\n",
    "print(\"Count of Siblings :\",siblingcount)\n",
    "print(\"Siblings after modification \",siblings)\n",
    "print(\"Family members tuple\",family_members)"
   ]
  },
  {
   "cell_type": "markdown",
   "id": "87f05336",
   "metadata": {},
   "source": [
    "Q4"
   ]
  },
  {
   "cell_type": "code",
   "execution_count": 7,
   "id": "d9a0503d",
   "metadata": {},
   "outputs": [
    {
     "name": "stdout",
     "output_type": "stream",
     "text": [
      "Original IT Companies {'Facebook', 'Apple', 'Google', 'Microsoft', 'Oracle', 'Amazon', 'IBM'}\n",
      "IT Companies after adding new companies {'Twitter', 'Microsoft', 'Amazon', 'Google', 'TCS', 'Apple', 'Oracle', 'TATA', 'Facebook', 'IBM', 'Salesfore'}\n",
      "joining of A and B:  {19, 20, 22, 24, 25, 26, 27, 28}\n",
      "intersection of A and B:  {19, 20, 22, 24, 25, 26}\n",
      "Is A subset of B? True\n",
      "Are A and B disjoint sets?  False\n",
      "After joining A With B:  {19, 20, 22, 24, 25, 26, 27, 28} and joining B with A:  {19, 20, 22, 24, 25, 26, 27, 28}\n",
      "Symmetric difference between A and B: {27, 28}\n",
      "Is length of list and set is same : False\n"
     ]
    }
   ],
   "source": [
    "it_companies = {'Facebook', 'Google', 'Microsoft', 'Apple', 'IBM', 'Oracle', 'Amazon'}\n",
    "A = {19, 22, 24, 20, 25, 26}\n",
    "B = {19, 22, 20, 25, 26, 24, 28, 27}\n",
    "age = [22, 19, 24, 25, 26, 24, 25, 24]\n",
    "print(\"Original IT Companies\",it_companies)\n",
    "itCompaniesLength = len(it_companies) #getting length of it_companies\n",
    "it_companies.add(\"Twitter\")\n",
    "new_companies = [\"Salesfore\",\"TATA\",\"TCS\"]\n",
    "it_companies.update(new_companies) #adding multiple companies to the set\n",
    "print(\"IT Companies after adding new companies\",it_companies)\n",
    "\n",
    "it_companies.remove(\"Facebook\") #removing one item from IT Companies\n",
    "\n",
    "#Difference between discard and remove\n",
    "\n",
    "'''\n",
    " discard() in Python, removes the element from the set only if the element is present in the set\n",
    "  If the element is not present in the set, then no error or exception is raised and the original set is printed.\n",
    "  \n",
    " remove() in Python, removes the element from the set only if the element is present in the set,\n",
    " just as the discard() method does but If the element is not present in the set, then an error or exception is raised.\n",
    "'''\n",
    "\n",
    "jionedSets=A.union(B) #jioning A&B\n",
    "intersectedset= A.intersection(B) #intersection of A and B\n",
    "subset_check= A.issubset(B)  #checkAing A for subset condition with B\n",
    "disjoint_check= A.isdisjoint(B) #checking for disjiont\n",
    "aWithBset=A.union(B) #jioning a with B\n",
    "bWithAset= B.union(A) #jiioning bwith a\n",
    "\n",
    "print(\"joining of A and B: \", jionedSets)\n",
    "print(\"intersection of A and B: \", intersectedset)\n",
    "print(\"Is A subset of B?\", subset_check)\n",
    "print(\"Are A and B disjoint sets? \", disjoint_check)\n",
    "print(\"After joining A With B: \",aWithBset, \"and joining B with A: \",bWithAset)\n",
    "\n",
    "#What is the symmetric difference between A and B\n",
    "aSymmerticDifference = A.symmetric_difference(B)\n",
    "print(\"Symmetric difference between A and B:\", aSymmerticDifference)\n",
    "\n",
    "del A,B #deleting the sets\n",
    "\n",
    "\n",
    "I = set(age) #Converting the ages to a set and comparing the length of the list and the set\n",
    "print(\"Is length of list and set is same :\", len(I)==len(age))"
   ]
  },
  {
   "cell_type": "markdown",
   "id": "b371dd38",
   "metadata": {},
   "source": [
    "Q5"
   ]
  },
  {
   "cell_type": "code",
   "execution_count": 8,
   "id": "878c4f2f",
   "metadata": {},
   "outputs": [
    {
     "name": "stdout",
     "output_type": "stream",
     "text": [
      "Area of the default circle is:  2826.0\n",
      "Circumference of the default  circle is:  188.4\n",
      "Enter the radius of the circle : 20\n",
      "The area of the circle is 1256.0\n"
     ]
    }
   ],
   "source": [
    "radius = 30\n",
    "pi = 3.14\n",
    "\n",
    "_area_of_circle_= pi*radius*radius #caluclating area ciecle\n",
    "print(\"Area of the default circle is: \", _area_of_circle_)\n",
    "\n",
    "_circum_of_circle_= 2*pi*radius #caluclating the circumference\n",
    "print(\"Circumference of the default  circle is: \", _circum_of_circle_)\n",
    "\n",
    "\n",
    "radius = float(input (\"Enter the radius of the circle : \")) #Taking radius as user input\n",
    "Area= pi*radius*radius #calculating the area\n",
    "print (\"The area of the circle is\", Area)"
   ]
  },
  {
   "cell_type": "markdown",
   "id": "815e67ac",
   "metadata": {},
   "source": [
    "Q6"
   ]
  },
  {
   "cell_type": "code",
   "execution_count": 9,
   "id": "b24fdfa2",
   "metadata": {},
   "outputs": [
    {
     "name": "stdout",
     "output_type": "stream",
     "text": [
      "Unique words in the given set are: {'and', 'teach', 'am', 'to', 'inspire', 'teacher', 'I', 'people', 'a', 'love'}\n",
      "Number of unique words used in the sentence 10\n"
     ]
    }
   ],
   "source": [
    "sentence =  \"I am a teacher and I love to inspire and teach people\"  #given sentence\n",
    "uniqueWords=set(sentence.split(\" \"))  #splitting words and finidng unique words out of them\n",
    "print(\"Unique words in the given set are:\",uniqueWords)\n",
    "print(\"Number of unique words used in the sentence\",len(uniqueWords))"
   ]
  },
  {
   "cell_type": "markdown",
   "id": "45b2da35",
   "metadata": {},
   "source": [
    "Q7"
   ]
  },
  {
   "cell_type": "code",
   "execution_count": 10,
   "id": "e1b63a10",
   "metadata": {},
   "outputs": [
    {
     "name": "stdout",
     "output_type": "stream",
     "text": [
      " \u001b[1m Name\t\tAge\t\tCountry\t\tCity\n",
      "Asabeneh\t250\t\tFinland\t\tHelsinki\n"
     ]
    }
   ],
   "source": [
    "print(\" \\033[1m Name\\t\\tAge\\t\\tCountry\\t\\tCity\\nAsabeneh\\t250\\t\\tFinland\\t\\tHelsinki\")"
   ]
  },
  {
   "cell_type": "markdown",
   "id": "2a5c9279",
   "metadata": {},
   "source": [
    "Q8"
   ]
  },
  {
   "cell_type": "code",
   "execution_count": 11,
   "id": "1ed64652",
   "metadata": {},
   "outputs": [
    {
     "name": "stdout",
     "output_type": "stream",
     "text": [
      "The area of a circle with radius 10 is 314 sq.meters\n"
     ]
    }
   ],
   "source": [
    "radius = 10\n",
    "area = 3.14 * radius ** 2\n",
    "print(\"The area of a circle with radius {} is {} sq.meters\".format(radius, int(area)))"
   ]
  },
  {
   "cell_type": "markdown",
   "id": "0142024a",
   "metadata": {},
   "source": [
    "Q9"
   ]
  },
  {
   "cell_type": "code",
   "execution_count": 14,
   "id": "ba4d7b8f",
   "metadata": {},
   "outputs": [
    {
     "name": "stdout",
     "output_type": "stream",
     "text": [
      "enter the number of students2\n",
      "enter the element 12\n",
      "enter the element 24\n",
      "[5.4, 10.8]\n"
     ]
    }
   ],
   "source": [
    "lb_kg_conversion= 0.45\n",
    "\n",
    "enteredValues=int(input('enter the number of students'))\n",
    "caluclatedValues=[]\n",
    "\n",
    "for i in range(enteredValues):\n",
    "    caluclatedValues.append(int(input('enter the element ')))\n",
    "\n",
    "\n",
    "output=[lb_kg_conversion*i for i in caluclatedValues ]\n",
    "print(output)"
   ]
  },
  {
   "cell_type": "code",
   "execution_count": null,
   "id": "7b87286e",
   "metadata": {},
   "outputs": [],
   "source": []
  }
 ],
 "metadata": {
  "kernelspec": {
   "display_name": "Python 3 (ipykernel)",
   "language": "python",
   "name": "python3"
  },
  "language_info": {
   "codemirror_mode": {
    "name": "ipython",
    "version": 3
   },
   "file_extension": ".py",
   "mimetype": "text/x-python",
   "name": "python",
   "nbconvert_exporter": "python",
   "pygments_lexer": "ipython3",
   "version": "3.9.13"
  }
 },
 "nbformat": 4,
 "nbformat_minor": 5
}
